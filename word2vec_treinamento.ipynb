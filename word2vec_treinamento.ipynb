{
  "nbformat": 4,
  "nbformat_minor": 0,
  "metadata": {
    "colab": {
      "name": "word2vec_treinamento.ipynb",
      "provenance": [],
      "mount_file_id": "1V0FeEcjzQgWKLhT3tfuiLL6tAkyNkD9Y",
      "authorship_tag": "ABX9TyPrTzBXNdZ8C6tG46jM9nWX",
      "include_colab_link": true
    },
    "kernelspec": {
      "name": "python3",
      "display_name": "Python 3"
    }
  },
  "cells": [
    {
      "cell_type": "markdown",
      "metadata": {
        "id": "view-in-github",
        "colab_type": "text"
      },
      "source": [
        "<a href=\"https://colab.research.google.com/github/henriquevedoveli/correcao-provas/blob/master/word2vec_treinamento.ipynb\" target=\"_parent\"><img src=\"https://colab.research.google.com/assets/colab-badge.svg\" alt=\"Open In Colab\"/></a>"
      ]
    },
    {
      "cell_type": "markdown",
      "metadata": {
        "id": "rLT5Fh5gC9k3",
        "colab_type": "text"
      },
      "source": [
        "# Classificando Títulos de Notícias Utilizando Word2Vec\n",
        "### ***Notebook de Treinamento do Modelo***\n",
        "\n",
        "---\n",
        "\n",
        "## ***Objetivo***\n",
        "#### Desenvolver um classificador capaz de realizar automaticamente o processo de categorização de títulos de notícias."
      ]
    },
    {
      "cell_type": "markdown",
      "metadata": {
        "id": "T6qcu6x6A4KR",
        "colab_type": "text"
      },
      "source": [
        "## Download do core em português (rodar apenas uma vez)"
      ]
    },
    {
      "cell_type": "code",
      "metadata": {
        "id": "f79n7FhoDm7o",
        "colab_type": "code",
        "colab": {}
      },
      "source": [
        "# !python -m spacy download pt_core_news_sm"
      ],
      "execution_count": 1,
      "outputs": []
    },
    {
      "cell_type": "markdown",
      "metadata": {
        "id": "3l3FOO_1A5T7",
        "colab_type": "text"
      },
      "source": [
        "Bibliotecas Necessárias"
      ]
    },
    {
      "cell_type": "code",
      "metadata": {
        "id": "macBakhwC5bp",
        "colab_type": "code",
        "colab": {}
      },
      "source": [
        "import pandas as pd\n",
        "import spacy\n",
        "from gensim.models import Word2Vec\n",
        "import logging"
      ],
      "execution_count": 2,
      "outputs": []
    },
    {
      "cell_type": "markdown",
      "metadata": {
        "id": "WVO2n7REA54i",
        "colab_type": "text"
      },
      "source": [
        "## Importando Dados do Drive"
      ]
    },
    {
      "cell_type": "code",
      "metadata": {
        "id": "mnpx4JKkC7Xg",
        "colab_type": "code",
        "colab": {
          "base_uri": "https://localhost:8080/",
          "height": 197
        },
        "outputId": "348117ee-1030-4462-c6a9-2eb0292faa34"
      },
      "source": [
        "dados_treino = pd.read_csv('/content/drive/My Drive/data_science/classificacao-titulos/dados/treino.csv')\n",
        "\n",
        "dados_treino.sample(5)"
      ],
      "execution_count": 3,
      "outputs": [
        {
          "output_type": "execute_result",
          "data": {
            "text/html": [
              "<div>\n",
              "<style scoped>\n",
              "    .dataframe tbody tr th:only-of-type {\n",
              "        vertical-align: middle;\n",
              "    }\n",
              "\n",
              "    .dataframe tbody tr th {\n",
              "        vertical-align: top;\n",
              "    }\n",
              "\n",
              "    .dataframe thead th {\n",
              "        text-align: right;\n",
              "    }\n",
              "</style>\n",
              "<table border=\"1\" class=\"dataframe\">\n",
              "  <thead>\n",
              "    <tr style=\"text-align: right;\">\n",
              "      <th></th>\n",
              "      <th>title</th>\n",
              "      <th>text</th>\n",
              "      <th>date</th>\n",
              "      <th>category</th>\n",
              "      <th>subcategory</th>\n",
              "      <th>link</th>\n",
              "    </tr>\n",
              "  </thead>\n",
              "  <tbody>\n",
              "    <tr>\n",
              "      <th>66266</th>\n",
              "      <td>Brasil con Ñ: Medidas de película contra una s...</td>\n",
              "      <td>POR LUNA GÁMEZ  Y JOSÉ BAUTISTA A Brasil se le...</td>\n",
              "      <td>2015-11-02</td>\n",
              "      <td>mundo</td>\n",
              "      <td>NaN</td>\n",
              "      <td>http://www1.folha.uol.com.br/mundo/2015/02/158...</td>\n",
              "    </tr>\n",
              "    <tr>\n",
              "      <th>17164</th>\n",
              "      <td>Doping esquenta os bastidores no final da temp...</td>\n",
              "      <td>Por apontar falhas no controle antidoping do m...</td>\n",
              "      <td>2016-01-11</td>\n",
              "      <td>colunas</td>\n",
              "      <td>edgardalves</td>\n",
              "      <td>http://www1.folha.uol.com.br/colunas/edgardalv...</td>\n",
              "    </tr>\n",
              "    <tr>\n",
              "      <th>32147</th>\n",
              "      <td>Presidente do Palmeiras desafia clubes da Chin...</td>\n",
              "      <td>Em meio à transferências de jogadores do Corin...</td>\n",
              "      <td>2016-01-18</td>\n",
              "      <td>esporte</td>\n",
              "      <td>NaN</td>\n",
              "      <td>http://www1.folha.uol.com.br/esporte/2016/01/1...</td>\n",
              "    </tr>\n",
              "    <tr>\n",
              "      <th>28143</th>\n",
              "      <td>Temer terá curta lua de mel com mercados até e...</td>\n",
              "      <td>Com a aprovação do pedido de impeachment na Câ...</td>\n",
              "      <td>2016-04-18</td>\n",
              "      <td>mercado</td>\n",
              "      <td>NaN</td>\n",
              "      <td>http://www1.folha.uol.com.br/mercado/2016/04/1...</td>\n",
              "    </tr>\n",
              "    <tr>\n",
              "      <th>81446</th>\n",
              "      <td>'Chega de Merkel', diz opositor uma semana ant...</td>\n",
              "      <td>A quatro semanas da eleição alemã e uma semana...</td>\n",
              "      <td>2017-08-28</td>\n",
              "      <td>mundo</td>\n",
              "      <td>NaN</td>\n",
              "      <td>http://www1.folha.uol.com.br/mundo/2017/08/191...</td>\n",
              "    </tr>\n",
              "  </tbody>\n",
              "</table>\n",
              "</div>"
            ],
            "text/plain": [
              "                                                   title  ...                                               link\n",
              "66266  Brasil con Ñ: Medidas de película contra una s...  ...  http://www1.folha.uol.com.br/mundo/2015/02/158...\n",
              "17164  Doping esquenta os bastidores no final da temp...  ...  http://www1.folha.uol.com.br/colunas/edgardalv...\n",
              "32147  Presidente do Palmeiras desafia clubes da Chin...  ...  http://www1.folha.uol.com.br/esporte/2016/01/1...\n",
              "28143  Temer terá curta lua de mel com mercados até e...  ...  http://www1.folha.uol.com.br/mercado/2016/04/1...\n",
              "81446  'Chega de Merkel', diz opositor uma semana ant...  ...  http://www1.folha.uol.com.br/mundo/2017/08/191...\n",
              "\n",
              "[5 rows x 6 columns]"
            ]
          },
          "metadata": {
            "tags": []
          },
          "execution_count": 3
        }
      ]
    },
    {
      "cell_type": "markdown",
      "metadata": {
        "id": "u5n5SRtHjnMm",
        "colab_type": "text"
      },
      "source": [
        "## Construindo o Vocabulário"
      ]
    },
    {
      "cell_type": "code",
      "metadata": {
        "id": "yCUE0a-nDN4K",
        "colab_type": "code",
        "colab": {}
      },
      "source": [
        "nlp = spacy.load('pt_core_news_sm')"
      ],
      "execution_count": 4,
      "outputs": []
    },
    {
      "cell_type": "code",
      "metadata": {
        "id": "VjngIbf-XuPW",
        "colab_type": "code",
        "colab": {}
      },
      "source": [
        "texto = \"Um texto qualquer para o teste\"\n",
        "doc = nlp(texto)"
      ],
      "execution_count": 5,
      "outputs": []
    },
    {
      "cell_type": "markdown",
      "metadata": {
        "id": "lEEolOSiDAdv",
        "colab_type": "text"
      },
      "source": [
        "---\n",
        "## Pré-Processamento dos Dados\n",
        "### Definindo uma função para tratar os textos\n",
        "#### Todas as letras maiúsculas do textos do Dataset serão transformadas em letras minúsculas.\n",
        "\n",
        "#### Casos os textos não sejam uma stop word e nem alfanúmerico, o token será considerado um token válido, caso seja uma stop word ou um alfanúmerico o token será excluido."
      ]
    },
    {
      "cell_type": "code",
      "metadata": {
        "id": "vMXo46Oec5aZ",
        "colab_type": "code",
        "colab": {}
      },
      "source": [
        "textos_para_tratamento = (titulos.lower() for titulos in dados_treino['title'])"
      ],
      "execution_count": 6,
      "outputs": []
    },
    {
      "cell_type": "code",
      "metadata": {
        "id": "hzDCUIkXYQNK",
        "colab_type": "code",
        "colab": {}
      },
      "source": [
        "def trata_textos(doc):\n",
        "  tokens_validos = []\n",
        "  for token in doc:\n",
        "    eh_valido = not token.is_stop and token.is_alpha\n",
        "    if eh_valido:\n",
        "      tokens_validos.append(token.text)\n",
        "\n",
        "  if len(tokens_validos) > 2:\n",
        "    return ' '.join(tokens_validos)"
      ],
      "execution_count": 7,
      "outputs": []
    },
    {
      "cell_type": "code",
      "metadata": {
        "id": "7sFteJZCdmnw",
        "colab_type": "code",
        "colab": {
          "base_uri": "https://localhost:8080/",
          "height": 35
        },
        "outputId": "af29ffce-0b99-407f-8abe-08134856d986"
      },
      "source": [
        "trata_textos(doc)"
      ],
      "execution_count": 8,
      "outputs": [
        {
          "output_type": "execute_result",
          "data": {
            "application/vnd.google.colaboratory.intrinsic+json": {
              "type": "string"
            },
            "text/plain": [
              "'texto o teste'"
            ]
          },
          "metadata": {
            "tags": []
          },
          "execution_count": 8
        }
      ]
    },
    {
      "cell_type": "code",
      "metadata": {
        "id": "mRmAN31qdsxI",
        "colab_type": "code",
        "colab": {}
      },
      "source": [
        "textos_tratados = [trata_textos(doc) for doc in nlp.pipe(textos_para_tratamento,\n",
        "                                                        batch_size = 1000,\n",
        "                                                        n_process = -1)]"
      ],
      "execution_count": 9,
      "outputs": []
    },
    {
      "cell_type": "code",
      "metadata": {
        "id": "v2EPfhcIfkyx",
        "colab_type": "code",
        "colab": {
          "base_uri": "https://localhost:8080/",
          "height": 197
        },
        "outputId": "eef89bcd-a8cd-4717-dfe0-f0186059dec5"
      },
      "source": [
        "titulos_tratados = pd.DataFrame({'titulo':textos_tratados})\n",
        "titulos_tratados = titulos_tratados.dropna().drop_duplicates()\n",
        "\n",
        "titulos_tratados.sample(5)"
      ],
      "execution_count": 10,
      "outputs": [
        {
          "output_type": "execute_result",
          "data": {
            "text/html": [
              "<div>\n",
              "<style scoped>\n",
              "    .dataframe tbody tr th:only-of-type {\n",
              "        vertical-align: middle;\n",
              "    }\n",
              "\n",
              "    .dataframe tbody tr th {\n",
              "        vertical-align: top;\n",
              "    }\n",
              "\n",
              "    .dataframe thead th {\n",
              "        text-align: right;\n",
              "    }\n",
              "</style>\n",
              "<table border=\"1\" class=\"dataframe\">\n",
              "  <thead>\n",
              "    <tr style=\"text-align: right;\">\n",
              "      <th></th>\n",
              "      <th>titulo</th>\n",
              "    </tr>\n",
              "  </thead>\n",
              "  <tbody>\n",
              "    <tr>\n",
              "      <th>68958</th>\n",
              "      <td>árvore porte cai calçada e obriga pedestre a t...</td>\n",
              "    </tr>\n",
              "    <tr>\n",
              "      <th>40068</th>\n",
              "      <td>frases livro reúne a ironia e o pragmatismo de...</td>\n",
              "    </tr>\n",
              "    <tr>\n",
              "      <th>74456</th>\n",
              "      <td>principal força política argentina peronismo c...</td>\n",
              "    </tr>\n",
              "    <tr>\n",
              "      <th>70508</th>\n",
              "      <td>botafogo renova jefferson e vaquinha pagar dívida</td>\n",
              "    </tr>\n",
              "    <tr>\n",
              "      <th>9410</th>\n",
              "      <td>garantir erundina debates tv psol discute alia...</td>\n",
              "    </tr>\n",
              "  </tbody>\n",
              "</table>\n",
              "</div>"
            ],
            "text/plain": [
              "                                                  titulo\n",
              "68958  árvore porte cai calçada e obriga pedestre a t...\n",
              "40068  frases livro reúne a ironia e o pragmatismo de...\n",
              "74456  principal força política argentina peronismo c...\n",
              "70508  botafogo renova jefferson e vaquinha pagar dívida\n",
              "9410   garantir erundina debates tv psol discute alia..."
            ]
          },
          "metadata": {
            "tags": []
          },
          "execution_count": 10
        }
      ]
    },
    {
      "cell_type": "markdown",
      "metadata": {
        "id": "ORcgzHY-GzPO",
        "colab_type": "text"
      },
      "source": [
        "## Definindo o Modelo Word2Vec\n",
        "\n",
        "#### Em um modelo Word2Vec convertemos palavras em vetores em podemos medir a distância entre eles sendo assim, palavras semelhantes são mais próximas que palavras diferentes. \n",
        "\n",
        "#### O Word2Vec se tornou um dos métodos mais utilizados em pré-processamento de dados em formato de textos para realizar tarefas de Processamento de Linguagem Natural. O método foi desenvolvido por Tomas Mikolov em 2013 como uma respostas para tornar o treinamento de embeddings baseadas em redes neurais mais eficaz.\n",
        "\n",
        "#### O artigo original publicado por Tomas Mikolov pode ser acessado pelo [link](https://arxiv.org/pdf/1301.3781.pdf)."
      ]
    },
    {
      "cell_type": "code",
      "metadata": {
        "id": "fvLgeLGCslUI",
        "colab_type": "code",
        "colab": {}
      },
      "source": [
        "lista_lista_token = [titulo.split(' ') for titulo in titulos_tratados['titulo']]"
      ],
      "execution_count": 11,
      "outputs": []
    },
    {
      "cell_type": "markdown",
      "metadata": {
        "id": "v1OgzRwRucgB",
        "colab_type": "text"
      },
      "source": [
        "### Construindo Modelo CBOW"
      ]
    },
    {
      "cell_type": "code",
      "metadata": {
        "id": "EGN-Gnjhf98f",
        "colab_type": "code",
        "colab": {
          "base_uri": "https://localhost:8080/",
          "height": 514
        },
        "outputId": "9348677d-1ea0-4bb6-a82c-0973b002451d"
      },
      "source": [
        "w2v_model_cbow = Word2Vec(sg = 0,\n",
        "                     window = 2,\n",
        "                     size = 300,\n",
        "                     min_count = 5,\n",
        "                     alpha = 0.03,\n",
        "                     min_alpha = 0.007)\n",
        "\n",
        "logging.basicConfig(format='%(asctime)s : - %(message)s', level = logging.INFO)\n",
        "w2v_model_cbow.build_vocab(lista_lista_token, progress_per=5000)"
      ],
      "execution_count": 12,
      "outputs": [
        {
          "output_type": "stream",
          "text": [
            "2020-08-12 17:46:06,105 : - collecting all words and their counts\n",
            "2020-08-12 17:46:06,108 : - PROGRESS: at sentence #0, processed 0 words, keeping 0 word types\n",
            "2020-08-12 17:46:06,125 : - PROGRESS: at sentence #5000, processed 34716 words, keeping 10129 word types\n",
            "2020-08-12 17:46:06,136 : - PROGRESS: at sentence #10000, processed 69298 words, keeping 14909 word types\n",
            "2020-08-12 17:46:06,150 : - PROGRESS: at sentence #15000, processed 103841 words, keeping 18223 word types\n",
            "2020-08-12 17:46:06,166 : - PROGRESS: at sentence #20000, processed 138620 words, keeping 20969 word types\n",
            "2020-08-12 17:46:06,178 : - PROGRESS: at sentence #25000, processed 173257 words, keeping 23410 word types\n",
            "2020-08-12 17:46:06,193 : - PROGRESS: at sentence #30000, processed 207976 words, keeping 25453 word types\n",
            "2020-08-12 17:46:06,210 : - PROGRESS: at sentence #35000, processed 242567 words, keeping 27263 word types\n",
            "2020-08-12 17:46:06,223 : - PROGRESS: at sentence #40000, processed 277254 words, keeping 28992 word types\n",
            "2020-08-12 17:46:06,239 : - PROGRESS: at sentence #45000, processed 311910 words, keeping 30561 word types\n",
            "2020-08-12 17:46:06,252 : - PROGRESS: at sentence #50000, processed 346641 words, keeping 31924 word types\n",
            "2020-08-12 17:46:06,269 : - PROGRESS: at sentence #55000, processed 381564 words, keeping 33224 word types\n",
            "2020-08-12 17:46:06,286 : - PROGRESS: at sentence #60000, processed 416318 words, keeping 34458 word types\n",
            "2020-08-12 17:46:06,301 : - PROGRESS: at sentence #65000, processed 451172 words, keeping 35585 word types\n",
            "2020-08-12 17:46:06,316 : - PROGRESS: at sentence #70000, processed 485882 words, keeping 36651 word types\n",
            "2020-08-12 17:46:06,332 : - PROGRESS: at sentence #75000, processed 520667 words, keeping 37767 word types\n",
            "2020-08-12 17:46:06,347 : - PROGRESS: at sentence #80000, processed 555521 words, keeping 38741 word types\n",
            "2020-08-12 17:46:06,363 : - PROGRESS: at sentence #85000, processed 590198 words, keeping 39739 word types\n",
            "2020-08-12 17:46:06,369 : - collected 39968 word types from a corpus of 597929 raw words and 86113 sentences\n",
            "2020-08-12 17:46:06,370 : - Loading a fresh vocabulary\n",
            "2020-08-12 17:46:06,411 : - effective_min_count=5 retains 13006 unique words (32% of original 39968, drops 26962)\n",
            "2020-08-12 17:46:06,412 : - effective_min_count=5 leaves 552614 word corpus (92% of original 597929, drops 45315)\n",
            "2020-08-12 17:46:06,458 : - deleting the raw counts dictionary of 39968 items\n",
            "2020-08-12 17:46:06,466 : - sample=0.001 downsamples 11 most-common words\n",
            "2020-08-12 17:46:06,466 : - downsampling leaves estimated 502900 word corpus (91.0% of prior 552614)\n",
            "2020-08-12 17:46:06,516 : - estimated required memory for 13006 words and 300 dimensions: 37717400 bytes\n",
            "2020-08-12 17:46:06,517 : - resetting layer weights\n"
          ],
          "name": "stderr"
        }
      ]
    },
    {
      "cell_type": "markdown",
      "metadata": {
        "id": "Y0vrGZFuuhyq",
        "colab_type": "text"
      },
      "source": [
        "### Construindo Modelo Skip-Gram"
      ]
    },
    {
      "cell_type": "code",
      "metadata": {
        "id": "bul4rnp_sZL1",
        "colab_type": "code",
        "colab": {
          "base_uri": "https://localhost:8080/",
          "height": 514
        },
        "outputId": "b19e3b96-8f99-4c1a-9cc4-725380689fba"
      },
      "source": [
        "w2v_model_sg = Word2Vec(sg = 1,\n",
        "                     window = 5,\n",
        "                     size = 300,\n",
        "                     min_count = 5,\n",
        "                     alpha = 0.03,\n",
        "                     min_alpha = 0.007)\n",
        "\n",
        "logging.basicConfig(format='%(asctime)s : - %(message)s', level = logging.INFO)\n",
        "w2v_model_sg.build_vocab(lista_lista_token, progress_per=5000)"
      ],
      "execution_count": 13,
      "outputs": [
        {
          "output_type": "stream",
          "text": [
            "2020-08-12 17:46:09,203 : - collecting all words and their counts\n",
            "2020-08-12 17:46:09,205 : - PROGRESS: at sentence #0, processed 0 words, keeping 0 word types\n",
            "2020-08-12 17:46:09,225 : - PROGRESS: at sentence #5000, processed 34716 words, keeping 10129 word types\n",
            "2020-08-12 17:46:09,235 : - PROGRESS: at sentence #10000, processed 69298 words, keeping 14909 word types\n",
            "2020-08-12 17:46:09,248 : - PROGRESS: at sentence #15000, processed 103841 words, keeping 18223 word types\n",
            "2020-08-12 17:46:09,261 : - PROGRESS: at sentence #20000, processed 138620 words, keeping 20969 word types\n",
            "2020-08-12 17:46:09,277 : - PROGRESS: at sentence #25000, processed 173257 words, keeping 23410 word types\n",
            "2020-08-12 17:46:09,288 : - PROGRESS: at sentence #30000, processed 207976 words, keeping 25453 word types\n",
            "2020-08-12 17:46:09,301 : - PROGRESS: at sentence #35000, processed 242567 words, keeping 27263 word types\n",
            "2020-08-12 17:46:09,317 : - PROGRESS: at sentence #40000, processed 277254 words, keeping 28992 word types\n",
            "2020-08-12 17:46:09,329 : - PROGRESS: at sentence #45000, processed 311910 words, keeping 30561 word types\n",
            "2020-08-12 17:46:09,343 : - PROGRESS: at sentence #50000, processed 346641 words, keeping 31924 word types\n",
            "2020-08-12 17:46:09,356 : - PROGRESS: at sentence #55000, processed 381564 words, keeping 33224 word types\n",
            "2020-08-12 17:46:09,371 : - PROGRESS: at sentence #60000, processed 416318 words, keeping 34458 word types\n",
            "2020-08-12 17:46:09,388 : - PROGRESS: at sentence #65000, processed 451172 words, keeping 35585 word types\n",
            "2020-08-12 17:46:09,400 : - PROGRESS: at sentence #70000, processed 485882 words, keeping 36651 word types\n",
            "2020-08-12 17:46:09,416 : - PROGRESS: at sentence #75000, processed 520667 words, keeping 37767 word types\n",
            "2020-08-12 17:46:09,439 : - PROGRESS: at sentence #80000, processed 555521 words, keeping 38741 word types\n",
            "2020-08-12 17:46:09,451 : - PROGRESS: at sentence #85000, processed 590198 words, keeping 39739 word types\n",
            "2020-08-12 17:46:09,458 : - collected 39968 word types from a corpus of 597929 raw words and 86113 sentences\n",
            "2020-08-12 17:46:09,460 : - Loading a fresh vocabulary\n",
            "2020-08-12 17:46:09,500 : - effective_min_count=5 retains 13006 unique words (32% of original 39968, drops 26962)\n",
            "2020-08-12 17:46:09,501 : - effective_min_count=5 leaves 552614 word corpus (92% of original 597929, drops 45315)\n",
            "2020-08-12 17:46:09,547 : - deleting the raw counts dictionary of 39968 items\n",
            "2020-08-12 17:46:09,550 : - sample=0.001 downsamples 11 most-common words\n",
            "2020-08-12 17:46:09,551 : - downsampling leaves estimated 502900 word corpus (91.0% of prior 552614)\n",
            "2020-08-12 17:46:09,602 : - estimated required memory for 13006 words and 300 dimensions: 37717400 bytes\n",
            "2020-08-12 17:46:09,603 : - resetting layer weights\n"
          ],
          "name": "stderr"
        }
      ]
    },
    {
      "cell_type": "markdown",
      "metadata": {
        "id": "ARiQD0t5jrYp",
        "colab_type": "text"
      },
      "source": [
        "## Arquitetura do Word2Vec\n",
        "#### O modelo Word2Vec utiliza de dois modelos em sua arquitetura, os quais possuem uma camada de entrada, uma camada oculta e uma camada de saída.\n",
        "\n",
        "---\n",
        "## Treinamento Word2Vec utilizando Continuous Bag of Words (CBOW)\n",
        "\n",
        "#### O modelo de arquitetura CBOW é utilizado para descobrir a palavra central de uma sentença, baseado nas palavras que a cercam. Utilzando como exemplo a frase ```o cachorro correu atrás do gato``` pode ser representada como:\n",
        "\n",
        "1. ```([o, correu], cachorro)```\n",
        "\n",
        "2. ```([cachorro, atrás], correu)```\n",
        "\n",
        "3. ```([correu, do], atrás)```\n",
        "\n",
        "4. ```([atrás, gato], do)```\n",
        "\n",
        "#### Com estes dados, conseguimos \"ensinar\" ao modelo a predizer uma palavra alvo, baseada em palavras de contexto. O modelo CBOW pode ser representado como na imagem abaixo, onde a camada de entrada receberá os dados pré-processados, como acima, e sua saída terá uma palavra que representa a maior probalidade para a palavra alvo.\n",
        "![](img/cbow.png)\n"
      ]
    },
    {
      "cell_type": "code",
      "metadata": {
        "id": "uD02HAj36u6q",
        "colab_type": "code",
        "colab": {
          "base_uri": "https://localhost:8080/",
          "height": 1000
        },
        "outputId": "868f119c-f47a-4b49-bef2-726dfd8beb62"
      },
      "source": [
        "w2v_model_cbow.train(lista_lista_token,\n",
        "                total_examples = w2v_model_cbow.corpus_count,\n",
        "                epochs = 30)"
      ],
      "execution_count": 14,
      "outputs": [
        {
          "output_type": "stream",
          "text": [
            "2020-08-12 17:46:12,221 : - training model with 3 workers on 13006 vocabulary and 300 features, using sg=0 hs=0 sample=0.001 negative=5 window=2\n",
            "2020-08-12 17:46:13,273 : - EPOCH 1 - PROGRESS: at 65.26% examples, 318031 words/s, in_qsize 5, out_qsize 0\n",
            "2020-08-12 17:46:13,726 : - worker thread finished; awaiting finish of 2 more threads\n",
            "2020-08-12 17:46:13,735 : - worker thread finished; awaiting finish of 1 more threads\n",
            "2020-08-12 17:46:13,754 : - worker thread finished; awaiting finish of 0 more threads\n",
            "2020-08-12 17:46:13,755 : - EPOCH - 1 : training on 597929 raw words (502972 effective words) took 1.5s, 332445 effective words/s\n",
            "2020-08-12 17:46:14,832 : - EPOCH 2 - PROGRESS: at 66.94% examples, 317041 words/s, in_qsize 6, out_qsize 2\n",
            "2020-08-12 17:46:15,232 : - worker thread finished; awaiting finish of 2 more threads\n",
            "2020-08-12 17:46:15,262 : - worker thread finished; awaiting finish of 1 more threads\n",
            "2020-08-12 17:46:15,265 : - worker thread finished; awaiting finish of 0 more threads\n",
            "2020-08-12 17:46:15,268 : - EPOCH - 2 : training on 597929 raw words (502737 effective words) took 1.5s, 335973 effective words/s\n",
            "2020-08-12 17:46:16,285 : - EPOCH 3 - PROGRESS: at 65.27% examples, 325777 words/s, in_qsize 5, out_qsize 0\n",
            "2020-08-12 17:46:16,708 : - worker thread finished; awaiting finish of 2 more threads\n",
            "2020-08-12 17:46:16,741 : - worker thread finished; awaiting finish of 1 more threads\n",
            "2020-08-12 17:46:16,749 : - worker thread finished; awaiting finish of 0 more threads\n",
            "2020-08-12 17:46:16,750 : - EPOCH - 3 : training on 597929 raw words (502821 effective words) took 1.5s, 341720 effective words/s\n",
            "2020-08-12 17:46:17,780 : - EPOCH 4 - PROGRESS: at 65.27% examples, 321409 words/s, in_qsize 4, out_qsize 1\n",
            "2020-08-12 17:46:18,214 : - worker thread finished; awaiting finish of 2 more threads\n",
            "2020-08-12 17:46:18,250 : - worker thread finished; awaiting finish of 1 more threads\n",
            "2020-08-12 17:46:18,257 : - worker thread finished; awaiting finish of 0 more threads\n",
            "2020-08-12 17:46:18,258 : - EPOCH - 4 : training on 597929 raw words (502842 effective words) took 1.5s, 335722 effective words/s\n",
            "2020-08-12 17:46:19,281 : - EPOCH 5 - PROGRESS: at 65.27% examples, 324128 words/s, in_qsize 6, out_qsize 2\n",
            "2020-08-12 17:46:19,698 : - worker thread finished; awaiting finish of 2 more threads\n",
            "2020-08-12 17:46:19,716 : - worker thread finished; awaiting finish of 1 more threads\n",
            "2020-08-12 17:46:19,727 : - worker thread finished; awaiting finish of 0 more threads\n",
            "2020-08-12 17:46:19,728 : - EPOCH - 5 : training on 597929 raw words (502873 effective words) took 1.5s, 344764 effective words/s\n",
            "2020-08-12 17:46:20,754 : - EPOCH 6 - PROGRESS: at 66.94% examples, 331443 words/s, in_qsize 5, out_qsize 0\n",
            "2020-08-12 17:46:21,167 : - worker thread finished; awaiting finish of 2 more threads\n",
            "2020-08-12 17:46:21,195 : - worker thread finished; awaiting finish of 1 more threads\n",
            "2020-08-12 17:46:21,205 : - worker thread finished; awaiting finish of 0 more threads\n",
            "2020-08-12 17:46:21,206 : - EPOCH - 6 : training on 597929 raw words (502838 effective words) took 1.5s, 342888 effective words/s\n",
            "2020-08-12 17:46:22,240 : - EPOCH 7 - PROGRESS: at 68.60% examples, 337087 words/s, in_qsize 5, out_qsize 0\n",
            "2020-08-12 17:46:22,639 : - worker thread finished; awaiting finish of 2 more threads\n",
            "2020-08-12 17:46:22,657 : - worker thread finished; awaiting finish of 1 more threads\n",
            "2020-08-12 17:46:22,674 : - worker thread finished; awaiting finish of 0 more threads\n",
            "2020-08-12 17:46:22,675 : - EPOCH - 7 : training on 597929 raw words (502663 effective words) took 1.5s, 345027 effective words/s\n",
            "2020-08-12 17:46:23,724 : - EPOCH 8 - PROGRESS: at 68.61% examples, 332189 words/s, in_qsize 6, out_qsize 0\n",
            "2020-08-12 17:46:24,133 : - worker thread finished; awaiting finish of 2 more threads\n",
            "2020-08-12 17:46:24,151 : - worker thread finished; awaiting finish of 1 more threads\n",
            "2020-08-12 17:46:24,175 : - worker thread finished; awaiting finish of 0 more threads\n",
            "2020-08-12 17:46:24,176 : - EPOCH - 8 : training on 597929 raw words (503039 effective words) took 1.5s, 337666 effective words/s\n",
            "2020-08-12 17:46:25,197 : - EPOCH 9 - PROGRESS: at 66.94% examples, 333708 words/s, in_qsize 5, out_qsize 0\n",
            "2020-08-12 17:46:25,618 : - worker thread finished; awaiting finish of 2 more threads\n",
            "2020-08-12 17:46:25,642 : - worker thread finished; awaiting finish of 1 more threads\n",
            "2020-08-12 17:46:25,653 : - worker thread finished; awaiting finish of 0 more threads\n",
            "2020-08-12 17:46:25,655 : - EPOCH - 9 : training on 597929 raw words (502878 effective words) took 1.5s, 343145 effective words/s\n",
            "2020-08-12 17:46:26,677 : - EPOCH 10 - PROGRESS: at 65.27% examples, 324887 words/s, in_qsize 6, out_qsize 0\n",
            "2020-08-12 17:46:27,097 : - worker thread finished; awaiting finish of 2 more threads\n",
            "2020-08-12 17:46:27,137 : - worker thread finished; awaiting finish of 1 more threads\n",
            "2020-08-12 17:46:27,145 : - worker thread finished; awaiting finish of 0 more threads\n",
            "2020-08-12 17:46:27,147 : - EPOCH - 10 : training on 597929 raw words (502690 effective words) took 1.5s, 340031 effective words/s\n",
            "2020-08-12 17:46:28,175 : - EPOCH 11 - PROGRESS: at 65.27% examples, 322478 words/s, in_qsize 5, out_qsize 0\n",
            "2020-08-12 17:46:28,618 : - worker thread finished; awaiting finish of 2 more threads\n",
            "2020-08-12 17:46:28,634 : - worker thread finished; awaiting finish of 1 more threads\n",
            "2020-08-12 17:46:28,640 : - worker thread finished; awaiting finish of 0 more threads\n",
            "2020-08-12 17:46:28,642 : - EPOCH - 11 : training on 597929 raw words (502916 effective words) took 1.5s, 338862 effective words/s\n",
            "2020-08-12 17:46:29,682 : - EPOCH 12 - PROGRESS: at 68.61% examples, 335299 words/s, in_qsize 5, out_qsize 0\n",
            "2020-08-12 17:46:30,076 : - worker thread finished; awaiting finish of 2 more threads\n",
            "2020-08-12 17:46:30,079 : - worker thread finished; awaiting finish of 1 more threads\n",
            "2020-08-12 17:46:30,106 : - worker thread finished; awaiting finish of 0 more threads\n",
            "2020-08-12 17:46:30,107 : - EPOCH - 12 : training on 597929 raw words (502856 effective words) took 1.5s, 346247 effective words/s\n",
            "2020-08-12 17:46:31,152 : - EPOCH 13 - PROGRESS: at 68.61% examples, 333725 words/s, in_qsize 5, out_qsize 0\n",
            "2020-08-12 17:46:31,553 : - worker thread finished; awaiting finish of 2 more threads\n",
            "2020-08-12 17:46:31,561 : - worker thread finished; awaiting finish of 1 more threads\n",
            "2020-08-12 17:46:31,575 : - worker thread finished; awaiting finish of 0 more threads\n",
            "2020-08-12 17:46:31,577 : - EPOCH - 13 : training on 597929 raw words (502787 effective words) took 1.5s, 344962 effective words/s\n",
            "2020-08-12 17:46:32,600 : - EPOCH 14 - PROGRESS: at 66.94% examples, 333168 words/s, in_qsize 5, out_qsize 0\n",
            "2020-08-12 17:46:33,022 : - worker thread finished; awaiting finish of 2 more threads\n",
            "2020-08-12 17:46:33,027 : - worker thread finished; awaiting finish of 1 more threads\n",
            "2020-08-12 17:46:33,041 : - worker thread finished; awaiting finish of 0 more threads\n",
            "2020-08-12 17:46:33,043 : - EPOCH - 14 : training on 597929 raw words (502746 effective words) took 1.5s, 346307 effective words/s\n",
            "2020-08-12 17:46:34,072 : - EPOCH 15 - PROGRESS: at 68.61% examples, 338821 words/s, in_qsize 5, out_qsize 0\n",
            "2020-08-12 17:46:34,473 : - worker thread finished; awaiting finish of 2 more threads\n",
            "2020-08-12 17:46:34,500 : - worker thread finished; awaiting finish of 1 more threads\n",
            "2020-08-12 17:46:34,503 : - worker thread finished; awaiting finish of 0 more threads\n",
            "2020-08-12 17:46:34,507 : - EPOCH - 15 : training on 597929 raw words (502861 effective words) took 1.5s, 346255 effective words/s\n",
            "2020-08-12 17:46:35,523 : - EPOCH 16 - PROGRESS: at 66.94% examples, 334719 words/s, in_qsize 5, out_qsize 0\n",
            "2020-08-12 17:46:35,934 : - worker thread finished; awaiting finish of 2 more threads\n",
            "2020-08-12 17:46:35,954 : - worker thread finished; awaiting finish of 1 more threads\n",
            "2020-08-12 17:46:35,970 : - worker thread finished; awaiting finish of 0 more threads\n",
            "2020-08-12 17:46:35,971 : - EPOCH - 16 : training on 597929 raw words (502937 effective words) took 1.5s, 346192 effective words/s\n",
            "2020-08-12 17:46:36,984 : - EPOCH 17 - PROGRESS: at 68.61% examples, 344143 words/s, in_qsize 5, out_qsize 0\n",
            "2020-08-12 17:46:37,410 : - worker thread finished; awaiting finish of 2 more threads\n",
            "2020-08-12 17:46:37,438 : - worker thread finished; awaiting finish of 1 more threads\n",
            "2020-08-12 17:46:37,442 : - worker thread finished; awaiting finish of 0 more threads\n",
            "2020-08-12 17:46:37,444 : - EPOCH - 17 : training on 597929 raw words (502677 effective words) took 1.5s, 343859 effective words/s\n",
            "2020-08-12 17:46:38,459 : - EPOCH 18 - PROGRESS: at 66.94% examples, 335349 words/s, in_qsize 5, out_qsize 0\n",
            "2020-08-12 17:46:38,876 : - worker thread finished; awaiting finish of 2 more threads\n",
            "2020-08-12 17:46:38,904 : - worker thread finished; awaiting finish of 1 more threads\n",
            "2020-08-12 17:46:38,915 : - worker thread finished; awaiting finish of 0 more threads\n",
            "2020-08-12 17:46:38,916 : - EPOCH - 18 : training on 597929 raw words (502885 effective words) took 1.5s, 344309 effective words/s\n",
            "2020-08-12 17:46:39,975 : - EPOCH 19 - PROGRESS: at 70.26% examples, 337003 words/s, in_qsize 5, out_qsize 0\n",
            "2020-08-12 17:46:40,337 : - worker thread finished; awaiting finish of 2 more threads\n",
            "2020-08-12 17:46:40,357 : - worker thread finished; awaiting finish of 1 more threads\n",
            "2020-08-12 17:46:40,368 : - worker thread finished; awaiting finish of 0 more threads\n",
            "2020-08-12 17:46:40,374 : - EPOCH - 19 : training on 597929 raw words (502809 effective words) took 1.4s, 347671 effective words/s\n",
            "2020-08-12 17:46:41,393 : - EPOCH 20 - PROGRESS: at 68.61% examples, 341925 words/s, in_qsize 5, out_qsize 0\n",
            "2020-08-12 17:46:41,786 : - worker thread finished; awaiting finish of 2 more threads\n",
            "2020-08-12 17:46:41,804 : - worker thread finished; awaiting finish of 1 more threads\n",
            "2020-08-12 17:46:41,812 : - worker thread finished; awaiting finish of 0 more threads\n",
            "2020-08-12 17:46:41,816 : - EPOCH - 20 : training on 597929 raw words (502798 effective words) took 1.4s, 351370 effective words/s\n",
            "2020-08-12 17:46:42,857 : - EPOCH 21 - PROGRESS: at 70.26% examples, 342451 words/s, in_qsize 5, out_qsize 0\n",
            "2020-08-12 17:46:43,224 : - worker thread finished; awaiting finish of 2 more threads\n",
            "2020-08-12 17:46:43,246 : - worker thread finished; awaiting finish of 1 more threads\n",
            "2020-08-12 17:46:43,256 : - worker thread finished; awaiting finish of 0 more threads\n",
            "2020-08-12 17:46:43,257 : - EPOCH - 21 : training on 597929 raw words (502615 effective words) took 1.4s, 351245 effective words/s\n",
            "2020-08-12 17:46:44,278 : - EPOCH 22 - PROGRESS: at 66.94% examples, 332637 words/s, in_qsize 5, out_qsize 0\n",
            "2020-08-12 17:46:44,685 : - worker thread finished; awaiting finish of 2 more threads\n",
            "2020-08-12 17:46:44,719 : - worker thread finished; awaiting finish of 1 more threads\n",
            "2020-08-12 17:46:44,725 : - worker thread finished; awaiting finish of 0 more threads\n",
            "2020-08-12 17:46:44,727 : - EPOCH - 22 : training on 597929 raw words (502916 effective words) took 1.5s, 344196 effective words/s\n",
            "2020-08-12 17:46:45,744 : - EPOCH 23 - PROGRESS: at 68.61% examples, 342746 words/s, in_qsize 5, out_qsize 0\n",
            "2020-08-12 17:46:46,133 : - worker thread finished; awaiting finish of 2 more threads\n",
            "2020-08-12 17:46:46,151 : - worker thread finished; awaiting finish of 1 more threads\n",
            "2020-08-12 17:46:46,162 : - worker thread finished; awaiting finish of 0 more threads\n",
            "2020-08-12 17:46:46,163 : - EPOCH - 23 : training on 597929 raw words (502971 effective words) took 1.4s, 352978 effective words/s\n",
            "2020-08-12 17:46:47,196 : - EPOCH 24 - PROGRESS: at 65.27% examples, 320795 words/s, in_qsize 6, out_qsize 0\n",
            "2020-08-12 17:46:47,654 : - worker thread finished; awaiting finish of 2 more threads\n",
            "2020-08-12 17:46:47,655 : - worker thread finished; awaiting finish of 1 more threads\n",
            "2020-08-12 17:46:47,655 : - worker thread finished; awaiting finish of 0 more threads\n",
            "2020-08-12 17:46:47,659 : - EPOCH - 24 : training on 597929 raw words (502920 effective words) took 1.5s, 338540 effective words/s\n",
            "2020-08-12 17:46:48,684 : - EPOCH 25 - PROGRESS: at 66.94% examples, 333549 words/s, in_qsize 5, out_qsize 0\n",
            "2020-08-12 17:46:49,120 : - worker thread finished; awaiting finish of 2 more threads\n",
            "2020-08-12 17:46:49,143 : - worker thread finished; awaiting finish of 1 more threads\n",
            "2020-08-12 17:46:49,152 : - worker thread finished; awaiting finish of 0 more threads\n",
            "2020-08-12 17:46:49,153 : - EPOCH - 25 : training on 597929 raw words (503153 effective words) took 1.5s, 340396 effective words/s\n",
            "2020-08-12 17:46:50,177 : - EPOCH 26 - PROGRESS: at 65.27% examples, 323742 words/s, in_qsize 5, out_qsize 0\n",
            "2020-08-12 17:46:50,629 : - worker thread finished; awaiting finish of 2 more threads\n",
            "2020-08-12 17:46:50,647 : - worker thread finished; awaiting finish of 1 more threads\n",
            "2020-08-12 17:46:50,668 : - worker thread finished; awaiting finish of 0 more threads\n",
            "2020-08-12 17:46:50,669 : - EPOCH - 26 : training on 597929 raw words (502888 effective words) took 1.5s, 333920 effective words/s\n",
            "2020-08-12 17:46:51,694 : - EPOCH 27 - PROGRESS: at 65.26% examples, 324510 words/s, in_qsize 4, out_qsize 1\n",
            "2020-08-12 17:46:52,129 : - worker thread finished; awaiting finish of 2 more threads\n",
            "2020-08-12 17:46:52,164 : - worker thread finished; awaiting finish of 1 more threads\n",
            "2020-08-12 17:46:52,172 : - worker thread finished; awaiting finish of 0 more threads\n",
            "2020-08-12 17:46:52,175 : - EPOCH - 27 : training on 597929 raw words (502915 effective words) took 1.5s, 337169 effective words/s\n",
            "2020-08-12 17:46:53,211 : - EPOCH 28 - PROGRESS: at 66.92% examples, 328441 words/s, in_qsize 5, out_qsize 0\n",
            "2020-08-12 17:46:53,606 : - worker thread finished; awaiting finish of 2 more threads\n",
            "2020-08-12 17:46:53,617 : - worker thread finished; awaiting finish of 1 more threads\n",
            "2020-08-12 17:46:53,642 : - worker thread finished; awaiting finish of 0 more threads\n",
            "2020-08-12 17:46:53,644 : - EPOCH - 28 : training on 597929 raw words (502819 effective words) took 1.5s, 345248 effective words/s\n",
            "2020-08-12 17:46:54,664 : - EPOCH 29 - PROGRESS: at 70.26% examples, 351006 words/s, in_qsize 6, out_qsize 0\n",
            "2020-08-12 17:46:55,030 : - worker thread finished; awaiting finish of 2 more threads\n",
            "2020-08-12 17:46:55,066 : - worker thread finished; awaiting finish of 1 more threads\n",
            "2020-08-12 17:46:55,077 : - worker thread finished; awaiting finish of 0 more threads\n",
            "2020-08-12 17:46:55,078 : - EPOCH - 29 : training on 597929 raw words (502923 effective words) took 1.4s, 354106 effective words/s\n",
            "2020-08-12 17:46:56,127 : - EPOCH 30 - PROGRESS: at 65.27% examples, 316459 words/s, in_qsize 5, out_qsize 0\n",
            "2020-08-12 17:46:56,563 : - worker thread finished; awaiting finish of 2 more threads\n",
            "2020-08-12 17:46:56,572 : - worker thread finished; awaiting finish of 1 more threads\n",
            "2020-08-12 17:46:56,590 : - worker thread finished; awaiting finish of 0 more threads\n",
            "2020-08-12 17:46:56,592 : - EPOCH - 30 : training on 597929 raw words (502897 effective words) took 1.5s, 334998 effective words/s\n",
            "2020-08-12 17:46:56,592 : - training on a 17937870 raw words (15085642 effective words) took 44.4s, 340017 effective words/s\n"
          ],
          "name": "stderr"
        },
        {
          "output_type": "execute_result",
          "data": {
            "text/plain": [
              "(15085642, 17937870)"
            ]
          },
          "metadata": {
            "tags": []
          },
          "execution_count": 14
        }
      ]
    },
    {
      "cell_type": "markdown",
      "metadata": {
        "id": "pnSx976opqig",
        "colab_type": "text"
      },
      "source": [
        "--- \n",
        "## Treinamento Word2Vec utilizando Skip-Gram\n",
        "\n",
        "#### Skip-Gram é o segundo modelo utilizado no Word2Vec, porém neste modelo ao invés de de tentarmos descobrir a palavra central, faremos o processo inverso; da palavra central, tentaremos descobrir as palavras de contexto.\n",
        "#### Utilizando a mesma frase como exemplo ```o cachorro correu atrás do gato```, obtemos:\n",
        "\n",
        "1. ```(cachorro, [O, correu])```\n",
        "\n",
        "2. ```(correu, [cachorro, atrás]))```\n",
        "\n",
        "3. ```(atrás, [correu, do])```\n",
        "\n",
        "4. ```(do, [atrás, gato])```\n",
        "\n",
        "#### Ao contrário da arquitetura do modelo CBOW, a arquitetura do modelo Skip-Gram, a camada de entrada temos apenas a palavra alvo, e em sua camada de saída temos a probalidadem cada uma contendo palavras de contexto possíveis.\n",
        "![](img/skip-gram.png)\n"
      ]
    },
    {
      "cell_type": "code",
      "metadata": {
        "id": "D2BHAcZXtt5e",
        "colab_type": "code",
        "colab": {
          "base_uri": "https://localhost:8080/",
          "height": 1000
        },
        "outputId": "704814a8-7582-414b-801e-82d8a61b96ad"
      },
      "source": [
        "w2v_model_sg.train(lista_lista_token,\n",
        "                total_examples = w2v_model_sg.corpus_count,\n",
        "                epochs = 30)"
      ],
      "execution_count": 15,
      "outputs": [
        {
          "output_type": "stream",
          "text": [
            "2020-08-12 17:46:56,601 : - training model with 3 workers on 13006 vocabulary and 300 features, using sg=1 hs=0 sample=0.001 negative=5 window=5\n",
            "2020-08-12 17:46:57,622 : - EPOCH 1 - PROGRESS: at 25.13% examples, 126197 words/s, in_qsize 5, out_qsize 0\n",
            "2020-08-12 17:46:58,692 : - EPOCH 1 - PROGRESS: at 55.26% examples, 133969 words/s, in_qsize 5, out_qsize 0\n",
            "2020-08-12 17:46:59,724 : - EPOCH 1 - PROGRESS: at 85.30% examples, 138182 words/s, in_qsize 4, out_qsize 1\n",
            "2020-08-12 17:47:00,102 : - worker thread finished; awaiting finish of 2 more threads\n",
            "2020-08-12 17:47:00,135 : - worker thread finished; awaiting finish of 1 more threads\n",
            "2020-08-12 17:47:00,147 : - worker thread finished; awaiting finish of 0 more threads\n",
            "2020-08-12 17:47:00,149 : - EPOCH - 1 : training on 597929 raw words (502896 effective words) took 3.5s, 142568 effective words/s\n",
            "2020-08-12 17:47:01,254 : - EPOCH 2 - PROGRESS: at 28.48% examples, 130866 words/s, in_qsize 5, out_qsize 0\n",
            "2020-08-12 17:47:02,312 : - EPOCH 2 - PROGRESS: at 58.57% examples, 136758 words/s, in_qsize 6, out_qsize 0\n",
            "2020-08-12 17:47:03,327 : - EPOCH 2 - PROGRESS: at 88.61% examples, 140701 words/s, in_qsize 5, out_qsize 0\n",
            "2020-08-12 17:47:03,615 : - worker thread finished; awaiting finish of 2 more threads\n",
            "2020-08-12 17:47:03,620 : - worker thread finished; awaiting finish of 1 more threads\n",
            "2020-08-12 17:47:03,672 : - worker thread finished; awaiting finish of 0 more threads\n",
            "2020-08-12 17:47:03,673 : - EPOCH - 2 : training on 597929 raw words (502981 effective words) took 3.5s, 143213 effective words/s\n",
            "2020-08-12 17:47:04,718 : - EPOCH 3 - PROGRESS: at 26.80% examples, 130192 words/s, in_qsize 4, out_qsize 1\n",
            "2020-08-12 17:47:05,746 : - EPOCH 3 - PROGRESS: at 56.93% examples, 138651 words/s, in_qsize 5, out_qsize 0\n",
            "2020-08-12 17:47:06,753 : - EPOCH 3 - PROGRESS: at 85.28% examples, 139670 words/s, in_qsize 5, out_qsize 0\n",
            "2020-08-12 17:47:07,142 : - worker thread finished; awaiting finish of 2 more threads\n",
            "2020-08-12 17:47:07,158 : - worker thread finished; awaiting finish of 1 more threads\n",
            "2020-08-12 17:47:07,210 : - worker thread finished; awaiting finish of 0 more threads\n",
            "2020-08-12 17:47:07,212 : - EPOCH - 3 : training on 597929 raw words (502751 effective words) took 3.5s, 142528 effective words/s\n",
            "2020-08-12 17:47:08,286 : - EPOCH 4 - PROGRESS: at 28.48% examples, 134896 words/s, in_qsize 6, out_qsize 0\n",
            "2020-08-12 17:47:09,309 : - EPOCH 4 - PROGRESS: at 56.93% examples, 137218 words/s, in_qsize 5, out_qsize 0\n",
            "2020-08-12 17:47:10,326 : - EPOCH 4 - PROGRESS: at 86.96% examples, 140971 words/s, in_qsize 5, out_qsize 0\n",
            "2020-08-12 17:47:10,709 : - worker thread finished; awaiting finish of 2 more threads\n",
            "2020-08-12 17:47:10,731 : - worker thread finished; awaiting finish of 1 more threads\n",
            "2020-08-12 17:47:10,739 : - worker thread finished; awaiting finish of 0 more threads\n",
            "2020-08-12 17:47:10,740 : - EPOCH - 4 : training on 597929 raw words (502864 effective words) took 3.5s, 143110 effective words/s\n",
            "2020-08-12 17:47:11,771 : - EPOCH 5 - PROGRESS: at 25.12% examples, 123455 words/s, in_qsize 5, out_qsize 0\n",
            "2020-08-12 17:47:12,811 : - EPOCH 5 - PROGRESS: at 55.26% examples, 134486 words/s, in_qsize 5, out_qsize 0\n",
            "2020-08-12 17:47:13,872 : - EPOCH 5 - PROGRESS: at 83.62% examples, 134552 words/s, in_qsize 5, out_qsize 0\n",
            "2020-08-12 17:47:14,340 : - worker thread finished; awaiting finish of 2 more threads\n",
            "2020-08-12 17:47:14,346 : - worker thread finished; awaiting finish of 1 more threads\n",
            "2020-08-12 17:47:14,378 : - worker thread finished; awaiting finish of 0 more threads\n",
            "2020-08-12 17:47:14,379 : - EPOCH - 5 : training on 597929 raw words (502756 effective words) took 3.6s, 138499 effective words/s\n",
            "2020-08-12 17:47:15,410 : - EPOCH 6 - PROGRESS: at 26.80% examples, 132579 words/s, in_qsize 5, out_qsize 0\n",
            "2020-08-12 17:47:16,464 : - EPOCH 6 - PROGRESS: at 56.93% examples, 138111 words/s, in_qsize 5, out_qsize 0\n",
            "2020-08-12 17:47:17,505 : - EPOCH 6 - PROGRESS: at 86.96% examples, 140510 words/s, in_qsize 5, out_qsize 0\n",
            "2020-08-12 17:47:17,897 : - worker thread finished; awaiting finish of 2 more threads\n",
            "2020-08-12 17:47:17,919 : - worker thread finished; awaiting finish of 1 more threads\n",
            "2020-08-12 17:47:17,935 : - worker thread finished; awaiting finish of 0 more threads\n",
            "2020-08-12 17:47:17,936 : - EPOCH - 6 : training on 597929 raw words (502728 effective words) took 3.5s, 141977 effective words/s\n",
            "2020-08-12 17:47:19,024 : - EPOCH 7 - PROGRESS: at 28.48% examples, 132775 words/s, in_qsize 5, out_qsize 0\n",
            "2020-08-12 17:47:20,037 : - EPOCH 7 - PROGRESS: at 58.61% examples, 140850 words/s, in_qsize 5, out_qsize 0\n",
            "2020-08-12 17:47:21,055 : - EPOCH 7 - PROGRESS: at 88.61% examples, 143377 words/s, in_qsize 5, out_qsize 0\n",
            "2020-08-12 17:47:21,380 : - worker thread finished; awaiting finish of 2 more threads\n",
            "2020-08-12 17:47:21,403 : - worker thread finished; awaiting finish of 1 more threads\n",
            "2020-08-12 17:47:21,421 : - worker thread finished; awaiting finish of 0 more threads\n",
            "2020-08-12 17:47:21,424 : - EPOCH - 7 : training on 597929 raw words (502973 effective words) took 3.5s, 144690 effective words/s\n",
            "2020-08-12 17:47:22,455 : - EPOCH 8 - PROGRESS: at 28.48% examples, 140061 words/s, in_qsize 6, out_qsize 0\n",
            "2020-08-12 17:47:23,531 : - EPOCH 8 - PROGRESS: at 58.61% examples, 140319 words/s, in_qsize 5, out_qsize 0\n",
            "2020-08-12 17:47:24,598 : - EPOCH 8 - PROGRESS: at 88.62% examples, 140809 words/s, in_qsize 5, out_qsize 0\n",
            "2020-08-12 17:47:24,815 : - worker thread finished; awaiting finish of 2 more threads\n",
            "2020-08-12 17:47:24,874 : - worker thread finished; awaiting finish of 1 more threads\n",
            "2020-08-12 17:47:24,890 : - worker thread finished; awaiting finish of 0 more threads\n",
            "2020-08-12 17:47:24,891 : - EPOCH - 8 : training on 597929 raw words (502857 effective words) took 3.5s, 145450 effective words/s\n",
            "2020-08-12 17:47:25,962 : - EPOCH 9 - PROGRESS: at 26.80% examples, 127430 words/s, in_qsize 5, out_qsize 0\n",
            "2020-08-12 17:47:26,984 : - EPOCH 9 - PROGRESS: at 56.93% examples, 137431 words/s, in_qsize 5, out_qsize 0\n",
            "2020-08-12 17:47:27,984 : - EPOCH 9 - PROGRESS: at 85.30% examples, 139213 words/s, in_qsize 5, out_qsize 0\n",
            "2020-08-12 17:47:28,377 : - worker thread finished; awaiting finish of 2 more threads\n",
            "2020-08-12 17:47:28,430 : - worker thread finished; awaiting finish of 1 more threads\n",
            "2020-08-12 17:47:28,432 : - worker thread finished; awaiting finish of 0 more threads\n",
            "2020-08-12 17:47:28,433 : - EPOCH - 9 : training on 597929 raw words (502881 effective words) took 3.5s, 142520 effective words/s\n",
            "2020-08-12 17:47:29,494 : - EPOCH 10 - PROGRESS: at 28.48% examples, 137007 words/s, in_qsize 5, out_qsize 0\n",
            "2020-08-12 17:47:30,551 : - EPOCH 10 - PROGRESS: at 58.60% examples, 140133 words/s, in_qsize 5, out_qsize 0\n",
            "2020-08-12 17:47:31,583 : - EPOCH 10 - PROGRESS: at 88.62% examples, 142271 words/s, in_qsize 5, out_qsize 0\n",
            "2020-08-12 17:47:31,878 : - worker thread finished; awaiting finish of 2 more threads\n",
            "2020-08-12 17:47:31,885 : - worker thread finished; awaiting finish of 1 more threads\n",
            "2020-08-12 17:47:31,912 : - worker thread finished; awaiting finish of 0 more threads\n",
            "2020-08-12 17:47:31,913 : - EPOCH - 10 : training on 597929 raw words (503014 effective words) took 3.5s, 145260 effective words/s\n",
            "2020-08-12 17:47:32,969 : - EPOCH 11 - PROGRESS: at 28.48% examples, 137129 words/s, in_qsize 5, out_qsize 0\n",
            "2020-08-12 17:47:34,039 : - EPOCH 11 - PROGRESS: at 58.61% examples, 139215 words/s, in_qsize 5, out_qsize 0\n",
            "2020-08-12 17:47:35,113 : - EPOCH 11 - PROGRESS: at 90.27% examples, 142397 words/s, in_qsize 5, out_qsize 0\n",
            "2020-08-12 17:47:35,326 : - worker thread finished; awaiting finish of 2 more threads\n",
            "2020-08-12 17:47:35,329 : - worker thread finished; awaiting finish of 1 more threads\n",
            "2020-08-12 17:47:35,374 : - worker thread finished; awaiting finish of 0 more threads\n",
            "2020-08-12 17:47:35,375 : - EPOCH - 11 : training on 597929 raw words (502880 effective words) took 3.4s, 145793 effective words/s\n",
            "2020-08-12 17:47:36,400 : - EPOCH 12 - PROGRESS: at 26.80% examples, 132898 words/s, in_qsize 5, out_qsize 0\n",
            "2020-08-12 17:47:37,435 : - EPOCH 12 - PROGRESS: at 56.95% examples, 139566 words/s, in_qsize 5, out_qsize 0\n",
            "2020-08-12 17:47:38,527 : - EPOCH 12 - PROGRESS: at 86.96% examples, 139197 words/s, in_qsize 5, out_qsize 0\n",
            "2020-08-12 17:47:38,804 : - worker thread finished; awaiting finish of 2 more threads\n",
            "2020-08-12 17:47:38,866 : - worker thread finished; awaiting finish of 1 more threads\n",
            "2020-08-12 17:47:38,873 : - worker thread finished; awaiting finish of 0 more threads\n",
            "2020-08-12 17:47:38,874 : - EPOCH - 12 : training on 597929 raw words (502985 effective words) took 3.5s, 144202 effective words/s\n",
            "2020-08-12 17:47:39,933 : - EPOCH 13 - PROGRESS: at 28.48% examples, 136997 words/s, in_qsize 5, out_qsize 0\n",
            "2020-08-12 17:47:40,969 : - EPOCH 13 - PROGRESS: at 58.61% examples, 141529 words/s, in_qsize 5, out_qsize 0\n",
            "2020-08-12 17:47:42,026 : - EPOCH 13 - PROGRESS: at 88.62% examples, 142046 words/s, in_qsize 5, out_qsize 0\n",
            "2020-08-12 17:47:42,298 : - worker thread finished; awaiting finish of 2 more threads\n",
            "2020-08-12 17:47:42,316 : - worker thread finished; awaiting finish of 1 more threads\n",
            "2020-08-12 17:47:42,335 : - worker thread finished; awaiting finish of 0 more threads\n",
            "2020-08-12 17:47:42,336 : - EPOCH - 13 : training on 597929 raw words (503058 effective words) took 3.4s, 145927 effective words/s\n",
            "2020-08-12 17:47:43,379 : - EPOCH 14 - PROGRESS: at 28.48% examples, 138536 words/s, in_qsize 5, out_qsize 0\n",
            "2020-08-12 17:47:44,489 : - EPOCH 14 - PROGRESS: at 58.57% examples, 137370 words/s, in_qsize 5, out_qsize 0\n",
            "2020-08-12 17:47:45,496 : - EPOCH 14 - PROGRESS: at 88.61% examples, 141486 words/s, in_qsize 5, out_qsize 0\n",
            "2020-08-12 17:47:45,711 : - worker thread finished; awaiting finish of 2 more threads\n",
            "2020-08-12 17:47:45,807 : - worker thread finished; awaiting finish of 1 more threads\n",
            "2020-08-12 17:47:45,815 : - worker thread finished; awaiting finish of 0 more threads\n",
            "2020-08-12 17:47:45,816 : - EPOCH - 14 : training on 597929 raw words (502898 effective words) took 3.5s, 144963 effective words/s\n",
            "2020-08-12 17:47:46,858 : - EPOCH 15 - PROGRESS: at 28.48% examples, 138742 words/s, in_qsize 5, out_qsize 0\n",
            "2020-08-12 17:47:47,864 : - EPOCH 15 - PROGRESS: at 56.95% examples, 140377 words/s, in_qsize 5, out_qsize 0\n",
            "2020-08-12 17:47:48,916 : - EPOCH 15 - PROGRESS: at 86.95% examples, 141550 words/s, in_qsize 5, out_qsize 0\n",
            "2020-08-12 17:47:49,229 : - worker thread finished; awaiting finish of 2 more threads\n",
            "2020-08-12 17:47:49,236 : - worker thread finished; awaiting finish of 1 more threads\n",
            "2020-08-12 17:47:49,299 : - worker thread finished; awaiting finish of 0 more threads\n",
            "2020-08-12 17:47:49,300 : - EPOCH - 15 : training on 597929 raw words (502827 effective words) took 3.5s, 144809 effective words/s\n",
            "2020-08-12 17:47:50,325 : - EPOCH 16 - PROGRESS: at 28.48% examples, 141088 words/s, in_qsize 5, out_qsize 0\n",
            "2020-08-12 17:47:51,332 : - EPOCH 16 - PROGRESS: at 56.93% examples, 141445 words/s, in_qsize 5, out_qsize 0\n",
            "2020-08-12 17:47:52,340 : - EPOCH 16 - PROGRESS: at 86.96% examples, 144291 words/s, in_qsize 5, out_qsize 0\n",
            "2020-08-12 17:47:52,609 : - worker thread finished; awaiting finish of 2 more threads\n",
            "2020-08-12 17:47:52,693 : - worker thread finished; awaiting finish of 1 more threads\n",
            "2020-08-12 17:47:52,701 : - worker thread finished; awaiting finish of 0 more threads\n",
            "2020-08-12 17:47:52,702 : - EPOCH - 16 : training on 597929 raw words (502730 effective words) took 3.4s, 148247 effective words/s\n",
            "2020-08-12 17:47:53,740 : - EPOCH 17 - PROGRESS: at 28.48% examples, 139218 words/s, in_qsize 5, out_qsize 0\n",
            "2020-08-12 17:47:54,768 : - EPOCH 17 - PROGRESS: at 58.61% examples, 143178 words/s, in_qsize 5, out_qsize 0\n",
            "2020-08-12 17:47:55,777 : - EPOCH 17 - PROGRESS: at 86.95% examples, 142660 words/s, in_qsize 5, out_qsize 0\n",
            "2020-08-12 17:47:56,080 : - worker thread finished; awaiting finish of 2 more threads\n",
            "2020-08-12 17:47:56,107 : - worker thread finished; awaiting finish of 1 more threads\n",
            "2020-08-12 17:47:56,122 : - worker thread finished; awaiting finish of 0 more threads\n",
            "2020-08-12 17:47:56,123 : - EPOCH - 17 : training on 597929 raw words (502687 effective words) took 3.4s, 147441 effective words/s\n",
            "2020-08-12 17:47:57,196 : - EPOCH 18 - PROGRESS: at 28.48% examples, 134718 words/s, in_qsize 6, out_qsize 0\n",
            "2020-08-12 17:47:58,246 : - EPOCH 18 - PROGRESS: at 58.57% examples, 139268 words/s, in_qsize 5, out_qsize 0\n",
            "2020-08-12 17:47:59,265 : - EPOCH 18 - PROGRESS: at 90.28% examples, 144969 words/s, in_qsize 5, out_qsize 0\n",
            "2020-08-12 17:47:59,477 : - worker thread finished; awaiting finish of 2 more threads\n",
            "2020-08-12 17:47:59,493 : - worker thread finished; awaiting finish of 1 more threads\n",
            "2020-08-12 17:47:59,550 : - worker thread finished; awaiting finish of 0 more threads\n",
            "2020-08-12 17:47:59,551 : - EPOCH - 18 : training on 597929 raw words (502796 effective words) took 3.4s, 147165 effective words/s\n",
            "2020-08-12 17:48:00,624 : - EPOCH 19 - PROGRESS: at 28.48% examples, 135000 words/s, in_qsize 5, out_qsize 0\n",
            "2020-08-12 17:48:01,707 : - EPOCH 19 - PROGRESS: at 60.28% examples, 141326 words/s, in_qsize 5, out_qsize 0\n",
            "2020-08-12 17:48:02,753 : - EPOCH 19 - PROGRESS: at 91.97% examples, 145085 words/s, in_qsize 4, out_qsize 1\n",
            "2020-08-12 17:48:02,880 : - worker thread finished; awaiting finish of 2 more threads\n",
            "2020-08-12 17:48:02,924 : - worker thread finished; awaiting finish of 1 more threads\n",
            "2020-08-12 17:48:02,939 : - worker thread finished; awaiting finish of 0 more threads\n",
            "2020-08-12 17:48:02,940 : - EPOCH - 19 : training on 597929 raw words (503051 effective words) took 3.4s, 148997 effective words/s\n",
            "2020-08-12 17:48:04,008 : - EPOCH 20 - PROGRESS: at 28.48% examples, 136849 words/s, in_qsize 6, out_qsize 1\n",
            "2020-08-12 17:48:05,029 : - EPOCH 20 - PROGRESS: at 58.61% examples, 141686 words/s, in_qsize 5, out_qsize 0\n",
            "2020-08-12 17:48:06,084 : - EPOCH 20 - PROGRESS: at 90.27% examples, 144933 words/s, in_qsize 5, out_qsize 0\n",
            "2020-08-12 17:48:06,262 : - worker thread finished; awaiting finish of 2 more threads\n",
            "2020-08-12 17:48:06,293 : - worker thread finished; awaiting finish of 1 more threads\n",
            "2020-08-12 17:48:06,323 : - worker thread finished; awaiting finish of 0 more threads\n",
            "2020-08-12 17:48:06,324 : - EPOCH - 20 : training on 597929 raw words (502927 effective words) took 3.4s, 149150 effective words/s\n",
            "2020-08-12 17:48:07,374 : - EPOCH 21 - PROGRESS: at 28.48% examples, 138004 words/s, in_qsize 6, out_qsize 0\n",
            "2020-08-12 17:48:08,381 : - EPOCH 21 - PROGRESS: at 58.61% examples, 144020 words/s, in_qsize 5, out_qsize 0\n",
            "2020-08-12 17:48:09,412 : - EPOCH 21 - PROGRESS: at 88.61% examples, 144866 words/s, in_qsize 5, out_qsize 0\n",
            "2020-08-12 17:48:09,693 : - worker thread finished; awaiting finish of 2 more threads\n",
            "2020-08-12 17:48:09,721 : - worker thread finished; awaiting finish of 1 more threads\n",
            "2020-08-12 17:48:09,739 : - worker thread finished; awaiting finish of 0 more threads\n",
            "2020-08-12 17:48:09,740 : - EPOCH - 21 : training on 597929 raw words (502740 effective words) took 3.4s, 147742 effective words/s\n",
            "2020-08-12 17:48:10,800 : - EPOCH 22 - PROGRESS: at 28.48% examples, 136439 words/s, in_qsize 5, out_qsize 0\n",
            "2020-08-12 17:48:11,830 : - EPOCH 22 - PROGRESS: at 60.28% examples, 145684 words/s, in_qsize 5, out_qsize 0\n",
            "2020-08-12 17:48:12,927 : - EPOCH 22 - PROGRESS: at 91.96% examples, 145610 words/s, in_qsize 5, out_qsize 0\n",
            "2020-08-12 17:48:13,052 : - worker thread finished; awaiting finish of 2 more threads\n",
            "2020-08-12 17:48:13,092 : - worker thread finished; awaiting finish of 1 more threads\n",
            "2020-08-12 17:48:13,099 : - worker thread finished; awaiting finish of 0 more threads\n",
            "2020-08-12 17:48:13,101 : - EPOCH - 22 : training on 597929 raw words (502876 effective words) took 3.3s, 150166 effective words/s\n",
            "2020-08-12 17:48:14,149 : - EPOCH 23 - PROGRESS: at 28.48% examples, 137653 words/s, in_qsize 5, out_qsize 0\n",
            "2020-08-12 17:48:15,216 : - EPOCH 23 - PROGRESS: at 58.61% examples, 139776 words/s, in_qsize 5, out_qsize 0\n",
            "2020-08-12 17:48:16,287 : - EPOCH 23 - PROGRESS: at 90.28% examples, 142888 words/s, in_qsize 5, out_qsize 0\n",
            "2020-08-12 17:48:16,516 : - worker thread finished; awaiting finish of 2 more threads\n",
            "2020-08-12 17:48:16,549 : - worker thread finished; awaiting finish of 1 more threads\n",
            "2020-08-12 17:48:16,565 : - worker thread finished; awaiting finish of 0 more threads\n",
            "2020-08-12 17:48:16,567 : - EPOCH - 23 : training on 597929 raw words (502917 effective words) took 3.5s, 145509 effective words/s\n",
            "2020-08-12 17:48:17,599 : - EPOCH 24 - PROGRESS: at 28.48% examples, 140248 words/s, in_qsize 5, out_qsize 0\n",
            "2020-08-12 17:48:18,657 : - EPOCH 24 - PROGRESS: at 58.61% examples, 141697 words/s, in_qsize 6, out_qsize 1\n",
            "2020-08-12 17:48:19,748 : - EPOCH 24 - PROGRESS: at 91.97% examples, 145928 words/s, in_qsize 5, out_qsize 0\n",
            "2020-08-12 17:48:19,882 : - worker thread finished; awaiting finish of 2 more threads\n",
            "2020-08-12 17:48:19,907 : - worker thread finished; awaiting finish of 1 more threads\n",
            "2020-08-12 17:48:19,934 : - worker thread finished; awaiting finish of 0 more threads\n",
            "2020-08-12 17:48:19,935 : - EPOCH - 24 : training on 597929 raw words (502895 effective words) took 3.4s, 149836 effective words/s\n",
            "2020-08-12 17:48:20,999 : - EPOCH 25 - PROGRESS: at 28.48% examples, 135647 words/s, in_qsize 5, out_qsize 0\n",
            "2020-08-12 17:48:22,006 : - EPOCH 25 - PROGRESS: at 60.28% examples, 146900 words/s, in_qsize 6, out_qsize 0\n",
            "2020-08-12 17:48:23,014 : - EPOCH 25 - PROGRESS: at 90.28% examples, 147913 words/s, in_qsize 5, out_qsize 0\n",
            "2020-08-12 17:48:23,219 : - worker thread finished; awaiting finish of 2 more threads\n",
            "2020-08-12 17:48:23,262 : - worker thread finished; awaiting finish of 1 more threads\n",
            "2020-08-12 17:48:23,284 : - worker thread finished; awaiting finish of 0 more threads\n",
            "2020-08-12 17:48:23,285 : - EPOCH - 25 : training on 597929 raw words (502939 effective words) took 3.3s, 150589 effective words/s\n",
            "2020-08-12 17:48:24,344 : - EPOCH 26 - PROGRESS: at 28.48% examples, 136455 words/s, in_qsize 5, out_qsize 0\n",
            "2020-08-12 17:48:25,359 : - EPOCH 26 - PROGRESS: at 58.60% examples, 142685 words/s, in_qsize 5, out_qsize 0\n",
            "2020-08-12 17:48:26,415 : - EPOCH 26 - PROGRESS: at 90.27% examples, 145578 words/s, in_qsize 5, out_qsize 0\n",
            "2020-08-12 17:48:26,602 : - worker thread finished; awaiting finish of 2 more threads\n",
            "2020-08-12 17:48:26,631 : - worker thread finished; awaiting finish of 1 more threads\n",
            "2020-08-12 17:48:26,659 : - worker thread finished; awaiting finish of 0 more threads\n",
            "2020-08-12 17:48:26,660 : - EPOCH - 26 : training on 597929 raw words (502983 effective words) took 3.4s, 149536 effective words/s\n",
            "2020-08-12 17:48:27,682 : - EPOCH 27 - PROGRESS: at 28.48% examples, 141415 words/s, in_qsize 5, out_qsize 0\n",
            "2020-08-12 17:48:28,692 : - EPOCH 27 - PROGRESS: at 58.61% examples, 145612 words/s, in_qsize 5, out_qsize 0\n",
            "2020-08-12 17:48:29,717 : - EPOCH 27 - PROGRESS: at 90.28% examples, 149003 words/s, in_qsize 5, out_qsize 0\n",
            "2020-08-12 17:48:29,927 : - worker thread finished; awaiting finish of 2 more threads\n",
            "2020-08-12 17:48:29,961 : - worker thread finished; awaiting finish of 1 more threads\n",
            "2020-08-12 17:48:29,997 : - worker thread finished; awaiting finish of 0 more threads\n",
            "2020-08-12 17:48:29,999 : - EPOCH - 27 : training on 597929 raw words (502791 effective words) took 3.3s, 151112 effective words/s\n",
            "2020-08-12 17:48:31,066 : - EPOCH 28 - PROGRESS: at 30.15% examples, 143299 words/s, in_qsize 6, out_qsize 0\n",
            "2020-08-12 17:48:32,176 : - EPOCH 28 - PROGRESS: at 63.60% examples, 147428 words/s, in_qsize 5, out_qsize 0\n",
            "2020-08-12 17:48:33,230 : - EPOCH 28 - PROGRESS: at 96.98% examples, 151341 words/s, in_qsize 2, out_qsize 1\n",
            "2020-08-12 17:48:33,234 : - worker thread finished; awaiting finish of 2 more threads\n",
            "2020-08-12 17:48:33,263 : - worker thread finished; awaiting finish of 1 more threads\n",
            "2020-08-12 17:48:33,272 : - worker thread finished; awaiting finish of 0 more threads\n",
            "2020-08-12 17:48:33,274 : - EPOCH - 28 : training on 597929 raw words (502583 effective words) took 3.3s, 154008 effective words/s\n",
            "2020-08-12 17:48:34,293 : - EPOCH 29 - PROGRESS: at 28.48% examples, 141990 words/s, in_qsize 5, out_qsize 0\n",
            "2020-08-12 17:48:35,379 : - EPOCH 29 - PROGRESS: at 60.28% examples, 144712 words/s, in_qsize 5, out_qsize 0\n",
            "2020-08-12 17:48:36,405 : - EPOCH 29 - PROGRESS: at 91.97% examples, 148255 words/s, in_qsize 5, out_qsize 0\n",
            "2020-08-12 17:48:36,540 : - worker thread finished; awaiting finish of 2 more threads\n",
            "2020-08-12 17:48:36,601 : - worker thread finished; awaiting finish of 1 more threads\n",
            "2020-08-12 17:48:36,606 : - worker thread finished; awaiting finish of 0 more threads\n",
            "2020-08-12 17:48:36,606 : - EPOCH - 29 : training on 597929 raw words (503097 effective words) took 3.3s, 151473 effective words/s\n",
            "2020-08-12 17:48:37,627 : - EPOCH 30 - PROGRESS: at 28.48% examples, 141861 words/s, in_qsize 5, out_qsize 0\n",
            "2020-08-12 17:48:38,708 : - EPOCH 30 - PROGRESS: at 60.25% examples, 144809 words/s, in_qsize 5, out_qsize 0\n",
            "2020-08-12 17:48:39,731 : - EPOCH 30 - PROGRESS: at 91.97% examples, 148559 words/s, in_qsize 5, out_qsize 0\n",
            "2020-08-12 17:48:39,873 : - worker thread finished; awaiting finish of 2 more threads\n",
            "2020-08-12 17:48:39,927 : - worker thread finished; awaiting finish of 1 more threads\n",
            "2020-08-12 17:48:39,941 : - worker thread finished; awaiting finish of 0 more threads\n",
            "2020-08-12 17:48:39,942 : - EPOCH - 30 : training on 597929 raw words (502846 effective words) took 3.3s, 151270 effective words/s\n",
            "2020-08-12 17:48:39,944 : - training on a 17937870 raw words (15086207 effective words) took 103.3s, 145985 effective words/s\n"
          ],
          "name": "stderr"
        },
        {
          "output_type": "execute_result",
          "data": {
            "text/plain": [
              "(15086207, 17937870)"
            ]
          },
          "metadata": {
            "tags": []
          },
          "execution_count": 15
        }
      ]
    },
    {
      "cell_type": "markdown",
      "metadata": {
        "id": "VZgZW9YK8EPV",
        "colab_type": "text"
      },
      "source": [
        "---\n",
        "### Avaliando Qualitativamento o Modelo\n",
        "\n",
        "#### Podemos ver que quando pesquisamos as palavras **\"google\"** e **\"barcelona\"** as palavras mais similiares com **google** são **apple, facebook, amazon e uber**, que são empresas grandes de tecnologias e quando pesquisando **barcelona** são **barça, chelsea, bayern, psg e figuerense**, sendo barça o mesmo que barcelona, e os outros resultados são todos times de futebol. "
      ]
    },
    {
      "cell_type": "code",
      "metadata": {
        "id": "mF-JIZDB7GPN",
        "colab_type": "code",
        "colab": {
          "base_uri": "https://localhost:8080/",
          "height": 267
        },
        "outputId": "2dc2a67c-355c-4675-abf2-4ac6fe5d26b1"
      },
      "source": [
        "w2v_model_cbow.wv.most_similar('google')"
      ],
      "execution_count": 16,
      "outputs": [
        {
          "output_type": "stream",
          "text": [
            "2020-08-12 17:48:39,952 : - precomputing L2-norms of word weight vectors\n",
            "/usr/local/lib/python3.6/dist-packages/gensim/matutils.py:737: FutureWarning: Conversion of the second argument of issubdtype from `int` to `np.signedinteger` is deprecated. In future, it will be treated as `np.int64 == np.dtype(int).type`.\n",
            "  if np.issubdtype(vec.dtype, np.int):\n"
          ],
          "name": "stderr"
        },
        {
          "output_type": "execute_result",
          "data": {
            "text/plain": [
              "[('apple', 0.5718475580215454),\n",
              " ('facebook', 0.5482473373413086),\n",
              " ('fbi', 0.4752236008644104),\n",
              " ('amazon', 0.4692961573600769),\n",
              " ('uber', 0.4642491042613983),\n",
              " ('walmart', 0.4600902497768402),\n",
              " ('buffett', 0.454828143119812),\n",
              " ('software', 0.4541092813014984),\n",
              " ('airbnb', 0.4497571289539337),\n",
              " ('sabmiller', 0.4454740583896637)]"
            ]
          },
          "metadata": {
            "tags": []
          },
          "execution_count": 16
        }
      ]
    },
    {
      "cell_type": "code",
      "metadata": {
        "id": "FZCsU5Ms7fOk",
        "colab_type": "code",
        "colab": {
          "base_uri": "https://localhost:8080/",
          "height": 250
        },
        "outputId": "d2c9394f-9764-4eb6-8cda-1ff28a227511"
      },
      "source": [
        "w2v_model_cbow.wv.most_similar('barcelona')"
      ],
      "execution_count": 17,
      "outputs": [
        {
          "output_type": "stream",
          "text": [
            "/usr/local/lib/python3.6/dist-packages/gensim/matutils.py:737: FutureWarning: Conversion of the second argument of issubdtype from `int` to `np.signedinteger` is deprecated. In future, it will be treated as `np.int64 == np.dtype(int).type`.\n",
            "  if np.issubdtype(vec.dtype, np.int):\n"
          ],
          "name": "stderr"
        },
        {
          "output_type": "execute_result",
          "data": {
            "text/plain": [
              "[('barça', 0.6111436486244202),\n",
              " ('bayern', 0.5928974151611328),\n",
              " ('chelsea', 0.5928400754928589),\n",
              " ('psg', 0.5867067575454712),\n",
              " ('juventus', 0.5729324817657471),\n",
              " ('madrid', 0.561914324760437),\n",
              " ('leicester', 0.5534391403198242),\n",
              " ('munique', 0.5455915927886963),\n",
              " ('figueirense', 0.5431289672851562),\n",
              " ('suárez', 0.54259192943573)]"
            ]
          },
          "metadata": {
            "tags": []
          },
          "execution_count": 17
        }
      ]
    },
    {
      "cell_type": "markdown",
      "metadata": {
        "id": "BpE91d3kBYT4",
        "colab_type": "text"
      },
      "source": [
        "---\n",
        "## Salvando o Modelo"
      ]
    },
    {
      "cell_type": "code",
      "metadata": {
        "id": "t9PLCsTC7uVV",
        "colab_type": "code",
        "colab": {
          "base_uri": "https://localhost:8080/",
          "height": 90
        },
        "outputId": "fc651188-5eac-4c6e-be41-d20ea99a3b26"
      },
      "source": [
        "w2v_model_cbow.wv.save_word2vec_format('/content/drive/My Drive/data_science/classificacao-titulos/model_cbow.txt', binary = False)"
      ],
      "execution_count": 18,
      "outputs": [
        {
          "output_type": "stream",
          "text": [
            "2020-08-12 17:48:40,023 : - storing 13006x300 projection weights into /content/drive/My Drive/data_science/classificacao-titulos/model_cbow.txt\n",
            "/usr/local/lib/python3.6/dist-packages/smart_open/smart_open_lib.py:254: UserWarning: This function is deprecated, use smart_open.open instead. See the migration notes for details: https://github.com/RaRe-Technologies/smart_open/blob/master/README.rst#migrating-to-the-new-open-function\n",
            "  'See the migration notes for details: %s' % _MIGRATION_NOTES_URL\n"
          ],
          "name": "stderr"
        }
      ]
    },
    {
      "cell_type": "code",
      "metadata": {
        "id": "UYJnfbgr9yAP",
        "colab_type": "code",
        "colab": {
          "base_uri": "https://localhost:8080/",
          "height": 90
        },
        "outputId": "863de1d0-037f-48da-ae1e-e0851e41c3c0"
      },
      "source": [
        "w2v_model_sg.wv.save_word2vec_format('/content/drive/My Drive/data_science/classificacao-titulos/model_sg.txt', binary = False)"
      ],
      "execution_count": 19,
      "outputs": [
        {
          "output_type": "stream",
          "text": [
            "2020-08-12 17:49:12,892 : - storing 13006x300 projection weights into /content/drive/My Drive/data_science/classificacao-titulos/model_sg.txt\n",
            "/usr/local/lib/python3.6/dist-packages/smart_open/smart_open_lib.py:254: UserWarning: This function is deprecated, use smart_open.open instead. See the migration notes for details: https://github.com/RaRe-Technologies/smart_open/blob/master/README.rst#migrating-to-the-new-open-function\n",
            "  'See the migration notes for details: %s' % _MIGRATION_NOTES_URL\n"
          ],
          "name": "stderr"
        }
      ]
    }
  ]
}